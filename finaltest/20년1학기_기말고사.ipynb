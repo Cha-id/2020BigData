{
  "nbformat": 4,
  "nbformat_minor": 0,
  "metadata": {
    "colab": {
      "name": "20년1학기-기말고사.ipynb",
      "provenance": [],
      "collapsed_sections": []
    },
    "kernelspec": {
      "name": "python3",
      "display_name": "Python 3"
    }
  },
  "cells": [
    {
      "cell_type": "markdown",
      "metadata": {
        "id": "USdoQTkkAfiU",
        "colab_type": "text"
      },
      "source": [
        "# 2020년 1학기 기말시험"
      ]
    },
    {
      "cell_type": "markdown",
      "metadata": {
        "id": "Yg0l6Iz-NbQX",
        "colab_type": "text"
      },
      "source": [
        "# 이름 : your name here(차성훈)"
      ]
    },
    {
      "cell_type": "markdown",
      "metadata": {
        "id": "dde2pQdBKaXE",
        "colab_type": "text"
      },
      "source": [
        "https://colab.research.google.com/에 import하여 셀에 답을 적고 RUN하십시오. 출력한 결과에 따라 스코어링됩니다."
      ]
    },
    {
      "cell_type": "markdown",
      "metadata": {
        "id": "vytowRjHlN1F",
        "colab_type": "text"
      },
      "source": [
        "Q1. CNN 신경망에서 2D 컨볼루션 레이어를 거친 행렬의 값을 파이썬 array형태로 적으시오. 계산을 위해 계산기앱 또는 액셀을 사용해도 좋습니다.\n"
      ]
    },
    {
      "cell_type": "code",
      "metadata": {
        "id": "vO3cm719mB64",
        "colab_type": "code",
        "colab": {}
      },
      "source": [
        "\"\"\" 문제\n",
        "x = [[1,2,3],\n",
        "     [4,5,6],\n",
        "     [7,8,9]]\n",
        "     \n",
        "kernel W =[[0,1],\n",
        "          [1,0]]\n",
        "\n",
        "Padding = VALID\n",
        "\n",
        "convolution을 한 결과를 행렬 y로 하여 print(y)로 출력하시오.\n",
        "\"\"\"\n",
        "y=   # 여러분의 answer를 파이썬 어레이로 적고 Run하시오.\n",
        "print(y)"
      ],
      "execution_count": 0,
      "outputs": []
    },
    {
      "cell_type": "markdown",
      "metadata": {
        "id": "ntyM0f5Rgq5t",
        "colab_type": "text"
      },
      "source": [
        "Q2, 아래의 Confusion Matrix를 보고 질문에 답하시오"
      ]
    },
    {
      "cell_type": "code",
      "metadata": {
        "id": "cjqJY4QkYg55",
        "colab_type": "code",
        "outputId": "b09b9796-f3ae-4ed7-96f4-8e3420692dfe",
        "colab": {
          "base_uri": "https://localhost:8080/",
          "height": 332
        }
      },
      "source": [
        "# 문제 : 아래의 혼동행렬을 보고 TPR과 FNR을 계산하시오. 단 계산하는 공식을 파이썬으로 코딩하여 값을 구하시오.\n",
        "# 혼동행렬의 row는 실제값, column은 예측값, (1,1)이 True & Positive\n",
        "# 정의 : TPR = True Postive rate, FNR = False Negative rate\n",
        "import seaborn as sn\n",
        "import pandas as pd\n",
        "import matplotlib.pyplot as plt\n",
        "import numpy as np\n",
        "\n",
        "array = np.array([[850,6],\n",
        "                  [50,94]])         \n",
        "\n",
        "sn.set(font_scale=2.0) # for label size\n",
        "sn.heatmap(array, annot=True, annot_kws={\"size\": 18}, fmt='d') # font size\n",
        "\n",
        "plt.show()"
      ],
      "execution_count": 23,
      "outputs": [
        {
          "output_type": "stream",
          "text": [
            "/usr/local/lib/python3.6/dist-packages/statsmodels/tools/_testing.py:19: FutureWarning: pandas.util.testing is deprecated. Use the functions in the public API at pandas.testing instead.\n",
            "  import pandas.util.testing as tm\n"
          ],
          "name": "stderr"
        },
        {
          "output_type": "display_data",
          "data": {
            "image/png": "[encoded data removed]",
            "text/plain": [
              "<Figure size 432x288 with 2 Axes>"
            ]
          },
          "metadata": {
            "tags": []
          }
        }
      ]
    },
    {
      "cell_type": "code",
      "metadata": {
        "id": "1cwqB8OwUa36",
        "colab_type": "code",
        "outputId": "8f904b68-3e91-4f20-dbb4-4f5d904e2f72",
        "colab": {
          "base_uri": "https://localhost:8080/",
          "height": 34
        }
      },
      "source": [
        "# Q2.1 TPR=?  아래에 계산식을 쓰고 Run 시키시오\n",
        "# 여러분의 코드 \n",
        "array = np.array(array)\n",
        "tpr=array[1,1]/(array[0,1]+array[1,1])\n",
        "print('TPR깂은 ', tpr)"
      ],
      "execution_count": 24,
      "outputs": [
        {
          "output_type": "stream",
          "text": [
            "TPR깂은  0.94\n"
          ],
          "name": "stdout"
        }
      ]
    },
    {
      "cell_type": "code",
      "metadata": {
        "id": "BzOe-Zgqkgdc",
        "colab_type": "code",
        "colab": {
          "base_uri": "https://localhost:8080/",
          "height": 34
        },
        "outputId": "0c63a420-1c09-458d-f94b-bf8b0e206033"
      },
      "source": [
        "# Q2.2 FNR 계산을 위한 코드를 쓰고  Run하시오\n",
        "# 여러분의 코드 \n",
        "array = np.array(array)\n",
        "fnr=array[1,0]/(array[1,0]+array[1,1])\n",
        "print('FNR값은 ', fnr)"
      ],
      "execution_count": 25,
      "outputs": [
        {
          "output_type": "stream",
          "text": [
            "FNR값은  0.3472222222222222\n"
          ],
          "name": "stdout"
        }
      ]
    },
    {
      "cell_type": "code",
      "metadata": {
        "id": "TK_zjLxMEiVM",
        "colab_type": "code",
        "colab": {
          "base_uri": "https://localhost:8080/",
          "height": 34
        },
        "outputId": "dde44afc-5876-4a2b-8dd7-d2b98e473da3"
      },
      "source": [
        "#  Q2.3 accurary 계산을 위한 코드를 쓰고  Run하시오\n",
        "# 여러분의 코드\n",
        "array = np.array(array)\n",
        "acc=(array[1,1]+array[0,0])/(array[0,0]+array[1,0]+array[0,1]+array[1,1])\n",
        "print('ACC값은 ', acc)"
      ],
      "execution_count": 26,
      "outputs": [
        {
          "output_type": "stream",
          "text": [
            "ACC값은  0.944\n"
          ],
          "name": "stdout"
        }
      ]
    },
    {
      "cell_type": "markdown",
      "metadata": {
        "id": "yukDPytdDmt7",
        "colab_type": "text"
      },
      "source": [
        "\n",
        "Q3. 다음 신경망 다이어그램을 보고 이를 구현하기 위한 파이썬 코드를 완성하시오"
      ]
    },
    {
      "cell_type": "code",
      "metadata": {
        "id": "dbbSoyMeINdZ",
        "colab_type": "code",
        "outputId": "85247338-853d-4119-b57c-f42c8af2574a",
        "colab": {
          "base_uri": "https://localhost:8080/",
          "height": 538
        }
      },
      "source": [
        "! wget --no-check-certificate 'https://docs.google.com/uc?export=download&id=1jGQthuWngRlgUq7masWosTq1LyzwUAS7' -O 퍼셉트론.png\n",
        "from IPython.display import Image\n",
        "Image(\"퍼셉트론.png\", width=500)  "
      ],
      "execution_count": 20,
      "outputs": [
        {
          "output_type": "stream",
          "text": [
            "--2020-06-10 05:06:30--  https://docs.google.com/uc?export=download&id=1jGQthuWngRlgUq7masWosTq1LyzwUAS7\n",
            "Resolving docs.google.com (docs.google.com)... 108.177.12.138, 108.177.12.100, 108.177.12.101, ...\n",
            "Connecting to docs.google.com (docs.google.com)|108.177.12.138|:443... connected.\n",
            "HTTP request sent, awaiting response... 302 Moved Temporarily\n",
            "Location: https://doc-0s-1s-docs.googleusercontent.com/docs/securesc/ha0ro937gcuc7l7deffksulhg5h7mbp1/gdlvtq3kuvoi2utl128m0hkj0qond1ts/1591765575000/04591858293269658552/*/1jGQthuWngRlgUq7masWosTq1LyzwUAS7?e=download [following]\n",
            "Warning: wildcards not supported in HTTP.\n",
            "--2020-06-10 05:06:30--  https://doc-0s-1s-docs.googleusercontent.com/docs/securesc/ha0ro937gcuc7l7deffksulhg5h7mbp1/gdlvtq3kuvoi2utl128m0hkj0qond1ts/1591765575000/04591858293269658552/*/1jGQthuWngRlgUq7masWosTq1LyzwUAS7?e=download\n",
            "Resolving doc-0s-1s-docs.googleusercontent.com (doc-0s-1s-docs.googleusercontent.com)... 173.194.214.132, 2607:f8b0:400c:c0b::84\n",
            "Connecting to doc-0s-1s-docs.googleusercontent.com (doc-0s-1s-docs.googleusercontent.com)|173.194.214.132|:443... connected.\n",
            "HTTP request sent, awaiting response... 200 OK\n",
            "Length: 18076 (18K) [image/png]\n",
            "Saving to: ‘퍼셉트론.png’\n",
            "\n",
            "\r퍼셉트론.png          0%[                    ]       0  --.-KB/s               \r퍼셉트론.png        100%[===================>]  17.65K  --.-KB/s    in 0s      \n",
            "\n",
            "2020-06-10 05:06:30 (103 MB/s) - ‘퍼셉트론.png’ saved [18076/18076]\n",
            "\n"
          ],
          "name": "stdout"
        },
        {
          "output_type": "execute_result",
          "data": {
            "image/png": "[encoded data removed]",
            "text/plain": [
              "<IPython.core.display.Image object>"
            ]
          },
          "metadata": {
            "tags": [],
            "image/png": {
              "width": 500
            }
          },
          "execution_count": 20
        }
      ]
    },
    {
      "cell_type": "code",
      "metadata": {
        "id": "wN6S1IvUt6jH",
        "colab_type": "code",
        "colab": {
          "base_uri": "https://localhost:8080/",
          "height": 54
        },
        "outputId": "c5043bb8-2043-4709-ba32-05148d5761cf"
      },
      "source": [
        "#Q3. 위의 그림에 맞는 신경망을 코드로 설계하시오.\n",
        "\"\"\"\n",
        "n = 4 # ?을 채우시오\n",
        "n_inputs = n  # ?을 채우시오\n",
        "n_hidden = n # ?을 채우시오 \n",
        "n_outputs = 2 # ?을 채우시오  \n",
        "X=tf.placeholder(tf.float64, shape=(None,n_inputs), name='X') # ?을 채우시오\n",
        "with tf.name_scope('nn'):\n",
        "hidden1 = make_nn_layer('hidden', n_hidden, X, activation=tf.nn.relu) # ?을 채우시오\n",
        "outputs = make_nn_layer('outputs', n_outputs, hidden1) # ?을 채우시오\n",
        "\"\"\""
      ],
      "execution_count": 19,
      "outputs": [
        {
          "output_type": "execute_result",
          "data": {
            "text/plain": [
              "\"\\nn = 8 # ?을 채우시오\\nn_inputs = n  # ?을 채우시오\\nn_hidden = n # ?을 채우시오 \\nn_outputs = 2 # ?을 채우시오  \\nX=tf.placeholder(tf.float64, shape=(None,n_inputs), name='X') # ?을 채우시오\\nwith tf.name_scope('nn'):\\nhidden1 = make_nn_layer('hidden', n_hidden, X, activation=tf.nn.relu) # ?을 채우시오\\noutputs = make_nn_layer('outputs', n_outputs, hidden1) # ?을 채우시오\\n\""
            ]
          },
          "metadata": {
            "tags": []
          },
          "execution_count": 19
        }
      ]
    },
    {
      "cell_type": "markdown",
      "metadata": {
        "id": "lZg0CU3IEoG-",
        "colab_type": "text"
      },
      "source": [
        "Q4. 아래의 표를 보고 Keras 코드를 완성하시오\n"
      ]
    },
    {
      "cell_type": "code",
      "metadata": {
        "id": "e78Ut02SEs6q",
        "colab_type": "code",
        "outputId": "a6d3238d-7251-402d-a89c-91f02bd3a66e",
        "colab": {
          "base_uri": "https://localhost:8080/",
          "height": 54
        }
      },
      "source": [
        "#Q4 표\n",
        "\"\"\"\n",
        "Layer (type)                 Output Shape              Param #   \n",
        "=================================================================\n",
        "conv2d_6 (Conv2D)            (None, 24, 24, 32)        832       \n",
        "_________________________________________________________________\n",
        "max_pooling2d_5 (MaxPooling2 (None, 12, 12, 32)        0         \n",
        "_________________________________________________________________\n",
        "dropout_6 (Dropout)          (None, 12, 12, 32)        0         \n",
        "_________________________________________________________________\n",
        "conv2d_7 (Conv2D)            (None, 10, 10, 64)        18496     \n",
        "_________________________________________________________________\n",
        "max_pooling2d_6 (MaxPooling2 (None, 5, 5, 64)          0         \n",
        "_________________________________________________________________\n",
        "dropout_7 (Dropout)          (None, 5, 5, 64)          0         \n",
        "_________________________________________________________________\n",
        "conv2d_8 (Conv2D)            (None, 5, 5, 128)         8320      \n",
        "_________________________________________________________________\n",
        "max_pooling2d_7 (MaxPooling2 (None, 2, 2, 128)         0         \n",
        "_________________________________________________________________\n",
        "dropout_8 (Dropout)          (None, 2, 2, 128)         0         \n",
        "_________________________________________________________________\n",
        "flatten_3 (Flatten)          (None, 512)               0         \n",
        "_________________________________________________________________\n",
        "dense_5 (Dense)              (None, 128)               65664     \n",
        "_________________________________________________________________\n",
        "dense_6 (Dense)              (None, 10)                1290      \n",
        "=================================================================\n",
        "\n",
        "\"\"\""
      ],
      "execution_count": 0,
      "outputs": [
        {
          "output_type": "execute_result",
          "data": {
            "text/plain": [
              "'\\nLayer (type)                 Output Shape              Param #   \\n=================================================================\\nconv2d_6 (Conv2D)            (None, 24, 24, 32)        832       \\n_________________________________________________________________\\nmax_pooling2d_5 (MaxPooling2 (None, 12, 12, 32)        0         \\n_________________________________________________________________\\ndropout_6 (Dropout)          (None, 12, 12, 32)        0         \\n_________________________________________________________________\\nconv2d_7 (Conv2D)            (None, 10, 10, 64)        18496     \\n_________________________________________________________________\\nmax_pooling2d_6 (MaxPooling2 (None, 5, 5, 64)          0         \\n_________________________________________________________________\\ndropout_7 (Dropout)          (None, 5, 5, 64)          0         \\n_________________________________________________________________\\nconv2d_8 (Conv2D)            (None, 5, 5, 128)         8320      \\n_________________________________________________________________\\nmax_pooling2d_7 (MaxPooling2 (None, 2, 2, 128)         0         \\n_________________________________________________________________\\ndropout_8 (Dropout)          (None, 2, 2, 128)         0         \\n_________________________________________________________________\\nflatten_3 (Flatten)          (None, 512)               0         \\n_________________________________________________________________\\ndense_5 (Dense)              (None, 128)               65664     \\n_________________________________________________________________\\ndense_6 (Dense)              (None, 10)                1290      \\n=================================================================\\n\\n'"
            ]
          },
          "metadata": {
            "tags": []
          },
          "execution_count": 1
        }
      ]
    },
    {
      "cell_type": "code",
      "metadata": {
        "id": "c2RTLEClGqlC",
        "colab_type": "code",
        "colab": {
          "base_uri": "https://localhost:8080/",
          "height": 130
        },
        "outputId": "557133b8-0eee-46dc-f8dc-081a00fefcb2"
      },
      "source": [
        "# Q4. 이곳에 위의 표에 맞는 딥러닝의 모델을 Keras로 코딩하십시오. 모델 부문만 작성하고 마지막에 print로 summary를 출력하십시오.\n",
        "# 가정 1 : input은 24 x 24의 흑백 이미지\n",
        "# 가정 2 : convolution layer에서 사용하는 activation function은 ReLU로 통일 \n",
        "# 가정 3 : maxpooling 시 pool_size는 2 x 2\n",
        "# 가정 4 : dropout rate는 0.5\n",
        "# 가정 5 : dense_5 layer에서 사용하는 activation function은 ReLU\n",
        "# 가정 6 : dense_6 layer에서 사용하는 activation function은 softmax\n",
        "import keras\n",
        "from keras.models import Sequential\n",
        "from keras.layers import Dense, Dropout, Flatten\n",
        "from keras.layers import Conv2D, MaxPooling2D\n",
        "from keras import backend as K\n",
        "from keras.utils import normalize, to_categorical\n",
        "\n",
        "\n",
        "mymodel = Sequential()\n",
        "mymodel.add(conv2d_6(None,24,24,32))\n",
        "mymodel.add(Dense(128))\n",
        "mymodel.add(max_pooling2d_5(None,12,12,32)\n",
        "mymodel.add(Dense(128))\n",
        "mymodel.add(Dropout(0.5))\n",
        "mymodel.add(conv2d_7(None,10,10,64))\n",
        "mymodel.add(Dense(128))\n",
        "model.add(Dropout(0.5))\n",
        "model.add(Dense(10))\n",
        "model.add((Flatten(input_shape=(28, 28)))\n",
        "model.add(Dropout(0.5))\n",
        "model.summary()\n",
        "\n",
        "mymodel.summary()\n",
        "# The End"
      ],
      "execution_count": 36,
      "outputs": [
        {
          "output_type": "error",
          "ename": "SyntaxError",
          "evalue": "ignored",
          "traceback": [
            "\u001b[0;36m  File \u001b[0;32m\"<ipython-input-36-c383c7a5cb4a>\"\u001b[0;36m, line \u001b[0;32m20\u001b[0m\n\u001b[0;31m    mymodel.add(Dense(128))\u001b[0m\n\u001b[0m          ^\u001b[0m\n\u001b[0;31mSyntaxError\u001b[0m\u001b[0;31m:\u001b[0m invalid syntax\n"
          ]
        }
      ]
    },
    {
      "cell_type": "markdown",
      "metadata": {
        "id": "k6z0l1F6d_SU",
        "colab_type": "text"
      },
      "source": [
        "Q5. 아래  코드가 출력하는 그래프에서 validation loss 값이 모든 epoch 구간에서 training loss 값보다 작도록  코드를 수정하시오. 현재의 그래프는 최적 상태가 아닙니다."
      ]
    },
    {
      "cell_type": "code",
      "metadata": {
        "id": "_3uvk7IVeIZs",
        "colab_type": "code",
        "outputId": "311e5c0e-9555-4784-931c-20bc587bb8fa",
        "colab": {
          "base_uri": "https://localhost:8080/",
          "height": 1000
        }
      },
      "source": [
        "from keras.datasets import mnist\n",
        "from matplotlib import pyplot as plt\n",
        "plt.style.use('dark_background')\n",
        "from keras.models import Sequential\n",
        "from keras.layers import Dense, Flatten, Activation, Dropout\n",
        "from keras.utils import normalize, to_categorical\n",
        "\n",
        "(X_train, y_train), (X_test, y_test) = mnist.load_data()\n",
        "\n",
        "plt.imshow(X_train[0], cmap = plt.cm.binary)\n",
        "plt.show()\n",
        "\n",
        "X_train = normalize(X_train, axis=1)\n",
        "X_test = normalize(X_test, axis=1)\n",
        "y_train = to_categorical(y_train)\n",
        "y_test = to_categorical(y_test)\n",
        "\n",
        "model = Sequential()\n",
        "model.add(Flatten(input_shape=(28, 28)))\n",
        "model.add(Dense(128))\n",
        "model.add(Activation('relu'))\n",
        "model.add(Dropout(0.25))\n",
        "model.add(Dense(128))\n",
        "model.add(Activation('relu'))\n",
        "model.add(Dropout(0.25))\n",
        "model.add(Dense(10))\n",
        "model.add(Activation('softmax'))\n",
        "model.add(Dropout(0.25))\n",
        "model.summary()\n",
        "\n",
        "\n",
        "\n",
        "model.compile(\n",
        "    loss='categorical_crossentropy',\n",
        "    optimizer='adam',\n",
        "    metrics=['accuracy']\n",
        ")\n",
        "history = model.fit(\n",
        "    X_train,\n",
        "    y_train,\n",
        "    epochs=10,\n",
        "    batch_size=32,\n",
        "    validation_split=0.1,\n",
        "    verbose = 1,\n",
        "    shuffle=True\n",
        ")\n",
        "\n",
        "loss = history.history['loss']\n",
        "val_loss = history.history['val_loss']\n",
        "epochs = range(1, len(loss) + 1)\n",
        "plt.plot(epochs, loss, 'y', label='Training loss')\n",
        "plt.plot(epochs, val_loss, 'r', label='Validation loss')\n",
        "plt.title('Training and validation loss')\n",
        "plt.xlabel('Epochs')\n",
        "plt.ylabel('Loss')\n",
        "plt.legend()\n",
        "plt.show()"
      ],
      "execution_count": 27,
      "outputs": [
        {
          "output_type": "display_data",
          "data": {
            "image/png": "[encoded data removed]",
            "text/plain": [
              "<Figure size 432x288 with 1 Axes>"
            ]
          },
          "metadata": {
            "tags": []
          }
        },
        {
          "output_type": "stream",
          "text": [
            "Model: \"sequential_20\"\n",
            "_________________________________________________________________\n",
            "Layer (type)                 Output Shape              Param #   \n",
            "=================================================================\n",
            "flatten_4 (Flatten)          (None, 784)               0         \n",
            "_________________________________________________________________\n",
            "dense_42 (Dense)             (None, 128)               100480    \n",
            "_________________________________________________________________\n",
            "activation_10 (Activation)   (None, 128)               0         \n",
            "_________________________________________________________________\n",
            "dropout_7 (Dropout)          (None, 128)               0         \n",
            "_________________________________________________________________\n",
            "dense_43 (Dense)             (None, 128)               16512     \n",
            "_________________________________________________________________\n",
            "activation_11 (Activation)   (None, 128)               0         \n",
            "_________________________________________________________________\n",
            "dropout_8 (Dropout)          (None, 128)               0         \n",
            "_________________________________________________________________\n",
            "dense_44 (Dense)             (None, 10)                1290      \n",
            "_________________________________________________________________\n",
            "activation_12 (Activation)   (None, 10)                0         \n",
            "_________________________________________________________________\n",
            "dropout_9 (Dropout)          (None, 10)                0         \n",
            "=================================================================\n",
            "Total params: 118,282\n",
            "Trainable params: 118,282\n",
            "Non-trainable params: 0\n",
            "_________________________________________________________________\n",
            "Train on 54000 samples, validate on 6000 samples\n",
            "Epoch 1/10\n",
            "54000/54000 [==============================] - 7s 123us/step - loss: 4.2313 - accuracy: 0.6727 - val_loss: 0.1474 - val_accuracy: 0.9560\n",
            "Epoch 2/10\n",
            "54000/54000 [==============================] - 6s 116us/step - loss: 4.1722 - accuracy: 0.7100 - val_loss: 0.1097 - val_accuracy: 0.9648\n",
            "Epoch 3/10\n",
            "54000/54000 [==============================] - 6s 113us/step - loss: 4.1397 - accuracy: 0.7204 - val_loss: 0.1053 - val_accuracy: 0.9687\n",
            "Epoch 4/10\n",
            "54000/54000 [==============================] - 6s 114us/step - loss: 4.0787 - accuracy: 0.7264 - val_loss: 0.0919 - val_accuracy: 0.9720\n",
            "Epoch 5/10\n",
            "54000/54000 [==============================] - 6s 111us/step - loss: 4.0978 - accuracy: 0.7282 - val_loss: 0.0807 - val_accuracy: 0.9758\n",
            "Epoch 6/10\n",
            "54000/54000 [==============================] - 6s 110us/step - loss: 4.1212 - accuracy: 0.7279 - val_loss: 0.0834 - val_accuracy: 0.9732\n",
            "Epoch 7/10\n",
            "54000/54000 [==============================] - 6s 115us/step - loss: 4.1396 - accuracy: 0.7283 - val_loss: 0.0758 - val_accuracy: 0.9780\n",
            "Epoch 8/10\n",
            "54000/54000 [==============================] - 6s 112us/step - loss: 4.1014 - accuracy: 0.7311 - val_loss: 0.0687 - val_accuracy: 0.9783\n",
            "Epoch 9/10\n",
            "54000/54000 [==============================] - 6s 115us/step - loss: 4.0636 - accuracy: 0.7351 - val_loss: 0.0844 - val_accuracy: 0.9735\n",
            "Epoch 10/10\n",
            "54000/54000 [==============================] - 6s 117us/step - loss: 4.0254 - accuracy: 0.7371 - val_loss: 0.0703 - val_accuracy: 0.9790\n"
          ],
          "name": "stdout"
        },
        {
          "output_type": "display_data",
          "data": {
            "image/png": "[encoded data removed]",
            "text/plain": [
              "<Figure size 432x288 with 1 Axes>"
            ]
          },
          "metadata": {
            "tags": []
          }
        }
      ]
    },
    {
      "cell_type": "markdown",
      "metadata": {
        "id": "o176gKn3yL-O",
        "colab_type": "text"
      },
      "source": [
        "Q6. Mini-batch size & Learning Rate 튜닝"
      ]
    },
    {
      "cell_type": "code",
      "metadata": {
        "id": "achHRPhwHPF3",
        "colab_type": "code",
        "colab": {
          "base_uri": "https://localhost:8080/",
          "height": 1000
        },
        "outputId": "3817b268-7bc0-4e5e-84e3-ebcb4580eac1"
      },
      "source": [
        "# mlp for the blobs problem with minibatch gradient descent with varied batch size\n",
        "# 아래의 코드에서 다음 두 개의 파라미터를 조합하여 최고의 모델링 성능을 내고 그 결과를 print()로 출력하십시오.\n",
        "# 튜닝할 파라미터 : batch_size & lr (각각 3가지의 옵션이 있으므로 두 파라미터를 조합할 수 있는 경우의 수는 모두 9가지)\n",
        "# 모델의 성능 평가 기준은 다음의 우선순위에 따라 결정하시오. \n",
        "# 1. Validation Loss가 최소, 2. Accuracy는 최고값에 가까울 것\n",
        "# 9번의 실험 후 최적이라고 생각되는 파라미터 값을 코드에 지정하고 셀을 다시 run하여 최종 결과를 출력하시오.\n",
        "%%time\n",
        "from sklearn.datasets import make_blobs\n",
        "from keras.layers import Dense\n",
        "from keras.models import Sequential\n",
        "from keras.optimizers import SGD\n",
        "from keras.utils import to_categorical\n",
        "from matplotlib import pyplot\n",
        "\n",
        "# prepare train and test dataset\n",
        "def prepare_data():\n",
        "\t# generate 2d classification dataset\n",
        "\tX, y = make_blobs(n_samples=1000, centers=3, n_features=2, cluster_std=2, random_state=2)\n",
        "\t# one hot encode output variable\n",
        "\ty = to_categorical(y)\n",
        "\t# split into train and test\n",
        "\tn_train = 500\n",
        "\ttrainX, testX = X[:n_train, :], X[n_train:, :]\n",
        "\ttrainy, testy = y[:n_train], y[n_train:]\n",
        "\treturn trainX, trainy, testX, testy\n",
        "\n",
        "# fit a model and plot learning curve\n",
        "def fit_model(trainX, trainy, testX, testy, n_batch):\n",
        "\t\n",
        "  # define model\n",
        "\tmodel = Sequential()\n",
        "\tmodel.add(Dense(50, input_dim=2, activation='relu', kernel_initializer='he_uniform'))\n",
        "\tmodel.add(Dense(3, activation='softmax'))\n",
        "\t\n",
        "  # lr의 값을  0.1, 0.01, 0.001 중에서 선택하여 이곳에 지정\n",
        "\topt = SGD(lr=0.001, momentum=0.9) \n",
        "\tmodel.compile(loss='categorical_crossentropy', optimizer=opt, metrics=['accuracy'])\n",
        "\t# fit model\n",
        "\thistory = model.fit(trainX, trainy, validation_data=(testX, testy), epochs=150, verbose=2, batch_size=n_batch)\n",
        "\tprint('accuracy = ', format(history.history['accuracy'][149],\".3f\"), ' ', 'validation loss = ', format(history.history['val_loss'][149],\".3f\"))\n",
        "  # plot learning curves\n",
        "\tpyplot.plot(history.history['accuracy'], label='train')\n",
        "\tpyplot.plot(history.history['val_loss'], label='test')\n",
        "\tpyplot.title('batch='+str(n_batch), pad=-40)\n",
        "\n",
        "\n",
        "\n",
        "# prepare dataset\n",
        "trainX, trainy, testX, testy = prepare_data()\n",
        "\n",
        "# batch_size의 값을   16, 32, 64 중에서 선택하여 이곳에 지정\n",
        "batch_size = 16\n",
        "\n",
        "fit_model(trainX, trainy, testX, testy, batch_size)\n",
        "# show learning curves\n",
        "pyplot.show()\n",
        "\n",
        "# 결과를 메모장에 적어놓고 lr과 batch_size를 바꿔가며 최적의 파라미터를 찾아가시오.\n",
        "# 최적의 lr과 batch_size를 선택하여 위의 코드에 적고 Run한 결과룰 출력하여 제출하시오. "
      ],
      "execution_count": 18,
      "outputs": [
        {
          "output_type": "stream",
          "text": [
            "Train on 500 samples, validate on 500 samples\n",
            "Epoch 1/150\n",
            " - 0s - loss: 1.0806 - accuracy: 0.5540 - val_loss: 0.7216 - val_accuracy: 0.6560\n",
            "Epoch 2/150\n",
            " - 0s - loss: 0.7465 - accuracy: 0.6160 - val_loss: 0.7371 - val_accuracy: 0.6700\n",
            "Epoch 3/150\n",
            " - 0s - loss: 0.7391 - accuracy: 0.6300 - val_loss: 0.6656 - val_accuracy: 0.6780\n",
            "Epoch 4/150\n",
            " - 0s - loss: 0.7003 - accuracy: 0.6400 - val_loss: 0.6544 - val_accuracy: 0.6780\n",
            "Epoch 5/150\n",
            " - 0s - loss: 0.6893 - accuracy: 0.6580 - val_loss: 0.6508 - val_accuracy: 0.6780\n",
            "Epoch 6/150\n",
            " - 0s - loss: 0.6847 - accuracy: 0.6600 - val_loss: 0.6427 - val_accuracy: 0.6920\n",
            "Epoch 7/150\n",
            " - 0s - loss: 0.6709 - accuracy: 0.6500 - val_loss: 0.6303 - val_accuracy: 0.7120\n",
            "Epoch 8/150\n",
            " - 0s - loss: 0.6789 - accuracy: 0.6620 - val_loss: 0.6433 - val_accuracy: 0.6700\n",
            "Epoch 9/150\n",
            " - 0s - loss: 0.6618 - accuracy: 0.6540 - val_loss: 0.6346 - val_accuracy: 0.7380\n",
            "Epoch 10/150\n",
            " - 0s - loss: 0.6573 - accuracy: 0.6720 - val_loss: 0.6351 - val_accuracy: 0.6840\n",
            "Epoch 11/150\n",
            " - 0s - loss: 0.6523 - accuracy: 0.6820 - val_loss: 0.6113 - val_accuracy: 0.7440\n",
            "Epoch 12/150\n",
            " - 0s - loss: 0.6567 - accuracy: 0.6720 - val_loss: 0.6118 - val_accuracy: 0.7440\n",
            "Epoch 13/150\n",
            " - 0s - loss: 0.6605 - accuracy: 0.6800 - val_loss: 0.5948 - val_accuracy: 0.7180\n",
            "Epoch 14/150\n",
            " - 0s - loss: 0.6445 - accuracy: 0.6720 - val_loss: 0.5936 - val_accuracy: 0.7260\n",
            "Epoch 15/150\n",
            " - 0s - loss: 0.6506 - accuracy: 0.6800 - val_loss: 0.5943 - val_accuracy: 0.7660\n",
            "Epoch 16/150\n",
            " - 0s - loss: 0.6285 - accuracy: 0.6980 - val_loss: 0.5809 - val_accuracy: 0.7280\n",
            "Epoch 17/150\n",
            " - 0s - loss: 0.6319 - accuracy: 0.6960 - val_loss: 0.5818 - val_accuracy: 0.7460\n",
            "Epoch 18/150\n",
            " - 0s - loss: 0.6389 - accuracy: 0.6900 - val_loss: 0.5954 - val_accuracy: 0.7920\n",
            "Epoch 19/150\n",
            " - 0s - loss: 0.6117 - accuracy: 0.7060 - val_loss: 0.5749 - val_accuracy: 0.7300\n",
            "Epoch 20/150\n",
            " - 0s - loss: 0.6045 - accuracy: 0.7200 - val_loss: 0.5652 - val_accuracy: 0.7420\n",
            "Epoch 21/150\n",
            " - 0s - loss: 0.6016 - accuracy: 0.7380 - val_loss: 0.5865 - val_accuracy: 0.7820\n",
            "Epoch 22/150\n",
            " - 0s - loss: 0.6036 - accuracy: 0.7120 - val_loss: 0.5589 - val_accuracy: 0.7620\n",
            "Epoch 23/150\n",
            " - 0s - loss: 0.6095 - accuracy: 0.7180 - val_loss: 0.5713 - val_accuracy: 0.7940\n",
            "Epoch 24/150\n",
            " - 0s - loss: 0.5916 - accuracy: 0.7240 - val_loss: 0.5512 - val_accuracy: 0.7720\n",
            "Epoch 25/150\n",
            " - 0s - loss: 0.5878 - accuracy: 0.7440 - val_loss: 0.5627 - val_accuracy: 0.7520\n",
            "Epoch 26/150\n",
            " - 0s - loss: 0.5911 - accuracy: 0.7300 - val_loss: 0.5763 - val_accuracy: 0.7360\n",
            "Epoch 27/150\n",
            " - 0s - loss: 0.5855 - accuracy: 0.7300 - val_loss: 0.5755 - val_accuracy: 0.7440\n",
            "Epoch 28/150\n",
            " - 0s - loss: 0.5855 - accuracy: 0.7620 - val_loss: 0.5563 - val_accuracy: 0.7420\n",
            "Epoch 29/150\n",
            " - 0s - loss: 0.5781 - accuracy: 0.7300 - val_loss: 0.5509 - val_accuracy: 0.8140\n",
            "Epoch 30/150\n",
            " - 0s - loss: 0.5833 - accuracy: 0.7420 - val_loss: 0.5356 - val_accuracy: 0.7560\n",
            "Epoch 31/150\n",
            " - 0s - loss: 0.5649 - accuracy: 0.7580 - val_loss: 0.5757 - val_accuracy: 0.8160\n",
            "Epoch 32/150\n",
            " - 0s - loss: 0.5566 - accuracy: 0.7600 - val_loss: 0.5882 - val_accuracy: 0.8040\n",
            "Epoch 33/150\n",
            " - 0s - loss: 0.5583 - accuracy: 0.7580 - val_loss: 0.5257 - val_accuracy: 0.7800\n",
            "Epoch 34/150\n",
            " - 0s - loss: 0.5648 - accuracy: 0.7500 - val_loss: 0.5364 - val_accuracy: 0.8100\n",
            "Epoch 35/150\n",
            " - 0s - loss: 0.5444 - accuracy: 0.7500 - val_loss: 0.5224 - val_accuracy: 0.7840\n",
            "Epoch 36/150\n",
            " - 0s - loss: 0.5600 - accuracy: 0.7460 - val_loss: 0.5171 - val_accuracy: 0.7880\n",
            "Epoch 37/150\n",
            " - 0s - loss: 0.5463 - accuracy: 0.7620 - val_loss: 0.5220 - val_accuracy: 0.8080\n",
            "Epoch 38/150\n",
            " - 0s - loss: 0.5384 - accuracy: 0.7540 - val_loss: 0.5153 - val_accuracy: 0.8100\n",
            "Epoch 39/150\n",
            " - 0s - loss: 0.5442 - accuracy: 0.7700 - val_loss: 0.5138 - val_accuracy: 0.7900\n",
            "Epoch 40/150\n",
            " - 0s - loss: 0.5355 - accuracy: 0.7840 - val_loss: 0.5135 - val_accuracy: 0.7780\n",
            "Epoch 41/150\n",
            " - 0s - loss: 0.5381 - accuracy: 0.7680 - val_loss: 0.5024 - val_accuracy: 0.8040\n",
            "Epoch 42/150\n",
            " - 0s - loss: 0.5242 - accuracy: 0.7740 - val_loss: 0.5688 - val_accuracy: 0.8000\n",
            "Epoch 43/150\n",
            " - 0s - loss: 0.5602 - accuracy: 0.7620 - val_loss: 0.5256 - val_accuracy: 0.7720\n",
            "Epoch 44/150\n",
            " - 0s - loss: 0.5692 - accuracy: 0.7640 - val_loss: 0.5043 - val_accuracy: 0.7800\n",
            "Epoch 45/150\n",
            " - 0s - loss: 0.5338 - accuracy: 0.7680 - val_loss: 0.5036 - val_accuracy: 0.8260\n",
            "Epoch 46/150\n",
            " - 0s - loss: 0.5340 - accuracy: 0.7720 - val_loss: 0.4933 - val_accuracy: 0.8240\n",
            "Epoch 47/150\n",
            " - 0s - loss: 0.5100 - accuracy: 0.8000 - val_loss: 0.4884 - val_accuracy: 0.8180\n",
            "Epoch 48/150\n",
            " - 0s - loss: 0.5084 - accuracy: 0.7840 - val_loss: 0.4905 - val_accuracy: 0.8240\n",
            "Epoch 49/150\n",
            " - 0s - loss: 0.5061 - accuracy: 0.7780 - val_loss: 0.5255 - val_accuracy: 0.8160\n",
            "Epoch 50/150\n",
            " - 0s - loss: 0.5134 - accuracy: 0.7720 - val_loss: 0.4821 - val_accuracy: 0.8200\n",
            "Epoch 51/150\n",
            " - 0s - loss: 0.5067 - accuracy: 0.7880 - val_loss: 0.4796 - val_accuracy: 0.8180\n",
            "Epoch 52/150\n",
            " - 0s - loss: 0.5039 - accuracy: 0.7820 - val_loss: 0.4915 - val_accuracy: 0.7980\n",
            "Epoch 53/150\n",
            " - 0s - loss: 0.5127 - accuracy: 0.7740 - val_loss: 0.5133 - val_accuracy: 0.8200\n",
            "Epoch 54/150\n",
            " - 0s - loss: 0.5001 - accuracy: 0.7840 - val_loss: 0.4745 - val_accuracy: 0.8140\n",
            "Epoch 55/150\n",
            " - 0s - loss: 0.4942 - accuracy: 0.7940 - val_loss: 0.5145 - val_accuracy: 0.8160\n",
            "Epoch 56/150\n",
            " - 0s - loss: 0.5137 - accuracy: 0.7780 - val_loss: 0.4746 - val_accuracy: 0.8220\n",
            "Epoch 57/150\n",
            " - 0s - loss: 0.4983 - accuracy: 0.7820 - val_loss: 0.4869 - val_accuracy: 0.8220\n",
            "Epoch 58/150\n",
            " - 0s - loss: 0.4901 - accuracy: 0.7900 - val_loss: 0.4795 - val_accuracy: 0.8020\n",
            "Epoch 59/150\n",
            " - 0s - loss: 0.5156 - accuracy: 0.7780 - val_loss: 0.4871 - val_accuracy: 0.8280\n",
            "Epoch 60/150\n",
            " - 0s - loss: 0.5304 - accuracy: 0.7740 - val_loss: 0.5103 - val_accuracy: 0.7760\n",
            "Epoch 61/150\n",
            " - 0s - loss: 0.4980 - accuracy: 0.7920 - val_loss: 0.4674 - val_accuracy: 0.8220\n",
            "Epoch 62/150\n",
            " - 0s - loss: 0.4843 - accuracy: 0.7880 - val_loss: 0.4635 - val_accuracy: 0.8200\n",
            "Epoch 63/150\n",
            " - 0s - loss: 0.4807 - accuracy: 0.8020 - val_loss: 0.4627 - val_accuracy: 0.8300\n",
            "Epoch 64/150\n",
            " - 0s - loss: 0.4827 - accuracy: 0.8020 - val_loss: 0.4632 - val_accuracy: 0.8280\n",
            "Epoch 65/150\n",
            " - 0s - loss: 0.4809 - accuracy: 0.8020 - val_loss: 0.4607 - val_accuracy: 0.8200\n",
            "Epoch 66/150\n",
            " - 0s - loss: 0.4790 - accuracy: 0.8000 - val_loss: 0.4615 - val_accuracy: 0.8300\n",
            "Epoch 67/150\n",
            " - 0s - loss: 0.4734 - accuracy: 0.8000 - val_loss: 0.4737 - val_accuracy: 0.8260\n",
            "Epoch 68/150\n",
            " - 0s - loss: 0.5078 - accuracy: 0.7800 - val_loss: 0.4596 - val_accuracy: 0.8180\n",
            "Epoch 69/150\n",
            " - 0s - loss: 0.4753 - accuracy: 0.8080 - val_loss: 0.4523 - val_accuracy: 0.8200\n",
            "Epoch 70/150\n",
            " - 0s - loss: 0.4645 - accuracy: 0.7900 - val_loss: 0.4511 - val_accuracy: 0.8340\n",
            "Epoch 71/150\n",
            " - 0s - loss: 0.4751 - accuracy: 0.7940 - val_loss: 0.4580 - val_accuracy: 0.8320\n",
            "Epoch 72/150\n",
            " - 0s - loss: 0.4718 - accuracy: 0.7960 - val_loss: 0.4654 - val_accuracy: 0.8320\n",
            "Epoch 73/150\n",
            " - 0s - loss: 0.4628 - accuracy: 0.8120 - val_loss: 0.4588 - val_accuracy: 0.8320\n",
            "Epoch 74/150\n",
            " - 0s - loss: 0.4712 - accuracy: 0.8040 - val_loss: 0.4552 - val_accuracy: 0.8360\n",
            "Epoch 75/150\n",
            " - 0s - loss: 0.5146 - accuracy: 0.7900 - val_loss: 0.4799 - val_accuracy: 0.7960\n",
            "Epoch 76/150\n",
            " - 0s - loss: 0.4669 - accuracy: 0.8080 - val_loss: 0.4440 - val_accuracy: 0.8340\n",
            "Epoch 77/150\n",
            " - 0s - loss: 0.4580 - accuracy: 0.8040 - val_loss: 0.4434 - val_accuracy: 0.8320\n",
            "Epoch 78/150\n",
            " - 0s - loss: 0.4520 - accuracy: 0.8140 - val_loss: 0.4602 - val_accuracy: 0.8240\n",
            "Epoch 79/150\n",
            " - 0s - loss: 0.4612 - accuracy: 0.7960 - val_loss: 0.4441 - val_accuracy: 0.8380\n",
            "Epoch 80/150\n",
            " - 0s - loss: 0.4545 - accuracy: 0.8120 - val_loss: 0.4402 - val_accuracy: 0.8280\n",
            "Epoch 81/150\n",
            " - 0s - loss: 0.4576 - accuracy: 0.8100 - val_loss: 0.5335 - val_accuracy: 0.7820\n",
            "Epoch 82/150\n",
            " - 0s - loss: 0.4616 - accuracy: 0.8000 - val_loss: 0.4731 - val_accuracy: 0.8100\n",
            "Epoch 83/150\n",
            " - 0s - loss: 0.4529 - accuracy: 0.8060 - val_loss: 0.4466 - val_accuracy: 0.8220\n",
            "Epoch 84/150\n",
            " - 0s - loss: 0.4656 - accuracy: 0.8140 - val_loss: 0.4349 - val_accuracy: 0.8280\n",
            "Epoch 85/150\n",
            " - 0s - loss: 0.4529 - accuracy: 0.8000 - val_loss: 0.4361 - val_accuracy: 0.8360\n",
            "Epoch 86/150\n",
            " - 0s - loss: 0.4629 - accuracy: 0.8100 - val_loss: 0.4382 - val_accuracy: 0.8260\n",
            "Epoch 87/150\n",
            " - 0s - loss: 0.4524 - accuracy: 0.8180 - val_loss: 0.4445 - val_accuracy: 0.8360\n",
            "Epoch 88/150\n",
            " - 0s - loss: 0.4484 - accuracy: 0.8080 - val_loss: 0.4428 - val_accuracy: 0.8380\n",
            "Epoch 89/150\n",
            " - 0s - loss: 0.4426 - accuracy: 0.8120 - val_loss: 0.4342 - val_accuracy: 0.8240\n",
            "Epoch 90/150\n",
            " - 0s - loss: 0.4627 - accuracy: 0.8040 - val_loss: 0.4387 - val_accuracy: 0.8360\n",
            "Epoch 91/150\n",
            " - 0s - loss: 0.4385 - accuracy: 0.8160 - val_loss: 0.4574 - val_accuracy: 0.8140\n",
            "Epoch 92/150\n",
            " - 0s - loss: 0.4500 - accuracy: 0.8060 - val_loss: 0.4674 - val_accuracy: 0.8160\n",
            "Epoch 93/150\n",
            " - 0s - loss: 0.4536 - accuracy: 0.8100 - val_loss: 0.4356 - val_accuracy: 0.8240\n",
            "Epoch 94/150\n",
            " - 0s - loss: 0.4451 - accuracy: 0.8120 - val_loss: 0.4926 - val_accuracy: 0.8140\n",
            "Epoch 95/150\n",
            " - 0s - loss: 0.4523 - accuracy: 0.8120 - val_loss: 0.4442 - val_accuracy: 0.8320\n",
            "Epoch 96/150\n",
            " - 0s - loss: 0.4394 - accuracy: 0.8240 - val_loss: 0.4285 - val_accuracy: 0.8300\n",
            "Epoch 97/150\n",
            " - 0s - loss: 0.4470 - accuracy: 0.8100 - val_loss: 0.4280 - val_accuracy: 0.8340\n",
            "Epoch 98/150\n",
            " - 0s - loss: 0.4334 - accuracy: 0.8180 - val_loss: 0.4289 - val_accuracy: 0.8360\n",
            "Epoch 99/150\n",
            " - 0s - loss: 0.4432 - accuracy: 0.8060 - val_loss: 0.4247 - val_accuracy: 0.8340\n",
            "Epoch 100/150\n",
            " - 0s - loss: 0.4350 - accuracy: 0.8180 - val_loss: 0.4240 - val_accuracy: 0.8340\n",
            "Epoch 101/150\n",
            " - 0s - loss: 0.4330 - accuracy: 0.8300 - val_loss: 0.4259 - val_accuracy: 0.8340\n",
            "Epoch 102/150\n",
            " - 0s - loss: 0.4341 - accuracy: 0.8120 - val_loss: 0.4246 - val_accuracy: 0.8360\n",
            "Epoch 103/150\n",
            " - 0s - loss: 0.4400 - accuracy: 0.8100 - val_loss: 0.4374 - val_accuracy: 0.8320\n",
            "Epoch 104/150\n",
            " - 0s - loss: 0.4323 - accuracy: 0.8260 - val_loss: 0.4332 - val_accuracy: 0.8340\n",
            "Epoch 105/150\n",
            " - 0s - loss: 0.4321 - accuracy: 0.8200 - val_loss: 0.4219 - val_accuracy: 0.8340\n",
            "Epoch 106/150\n",
            " - 0s - loss: 0.4307 - accuracy: 0.8280 - val_loss: 0.4254 - val_accuracy: 0.8340\n",
            "Epoch 107/150\n",
            " - 0s - loss: 0.4445 - accuracy: 0.8020 - val_loss: 0.4216 - val_accuracy: 0.8340\n",
            "Epoch 108/150\n",
            " - 0s - loss: 0.4463 - accuracy: 0.8140 - val_loss: 0.4179 - val_accuracy: 0.8340\n",
            "Epoch 109/150\n",
            " - 0s - loss: 0.4784 - accuracy: 0.8040 - val_loss: 0.4252 - val_accuracy: 0.8280\n",
            "Epoch 110/150\n",
            " - 0s - loss: 0.4315 - accuracy: 0.8160 - val_loss: 0.4169 - val_accuracy: 0.8400\n",
            "Epoch 111/150\n",
            " - 0s - loss: 0.4340 - accuracy: 0.8260 - val_loss: 0.4274 - val_accuracy: 0.8340\n",
            "Epoch 112/150\n",
            " - 0s - loss: 0.4282 - accuracy: 0.8180 - val_loss: 0.4193 - val_accuracy: 0.8340\n",
            "Epoch 113/150\n",
            " - 0s - loss: 0.4334 - accuracy: 0.8120 - val_loss: 0.4391 - val_accuracy: 0.8260\n",
            "Epoch 114/150\n",
            " - 0s - loss: 0.4386 - accuracy: 0.8120 - val_loss: 0.4154 - val_accuracy: 0.8340\n",
            "Epoch 115/150\n",
            " - 0s - loss: 0.4238 - accuracy: 0.8220 - val_loss: 0.4358 - val_accuracy: 0.8320\n",
            "Epoch 116/150\n",
            " - 0s - loss: 0.4280 - accuracy: 0.8140 - val_loss: 0.4225 - val_accuracy: 0.8360\n",
            "Epoch 117/150\n",
            " - 0s - loss: 0.4210 - accuracy: 0.8260 - val_loss: 0.4233 - val_accuracy: 0.8340\n",
            "Epoch 118/150\n",
            " - 0s - loss: 0.4210 - accuracy: 0.8220 - val_loss: 0.4140 - val_accuracy: 0.8320\n",
            "Epoch 119/150\n",
            " - 0s - loss: 0.4225 - accuracy: 0.8140 - val_loss: 0.4587 - val_accuracy: 0.8160\n",
            "Epoch 120/150\n",
            " - 0s - loss: 0.4288 - accuracy: 0.8300 - val_loss: 0.4296 - val_accuracy: 0.8260\n",
            "Epoch 121/150\n",
            " - 0s - loss: 0.4237 - accuracy: 0.8220 - val_loss: 0.4157 - val_accuracy: 0.8340\n",
            "Epoch 122/150\n",
            " - 0s - loss: 0.4246 - accuracy: 0.8300 - val_loss: 0.4142 - val_accuracy: 0.8300\n",
            "Epoch 123/150\n",
            " - 0s - loss: 0.4171 - accuracy: 0.8320 - val_loss: 0.4140 - val_accuracy: 0.8340\n",
            "Epoch 124/150\n",
            " - 0s - loss: 0.4205 - accuracy: 0.8220 - val_loss: 0.4181 - val_accuracy: 0.8320\n",
            "Epoch 125/150\n",
            " - 0s - loss: 0.4290 - accuracy: 0.8260 - val_loss: 0.4257 - val_accuracy: 0.8220\n",
            "Epoch 126/150\n",
            " - 0s - loss: 0.4292 - accuracy: 0.8300 - val_loss: 0.4165 - val_accuracy: 0.8320\n",
            "Epoch 127/150\n",
            " - 0s - loss: 0.4186 - accuracy: 0.8140 - val_loss: 0.4389 - val_accuracy: 0.8240\n",
            "Epoch 128/150\n",
            " - 0s - loss: 0.4195 - accuracy: 0.8300 - val_loss: 0.4103 - val_accuracy: 0.8360\n",
            "Epoch 129/150\n",
            " - 0s - loss: 0.4498 - accuracy: 0.8080 - val_loss: 0.4108 - val_accuracy: 0.8320\n",
            "Epoch 130/150\n",
            " - 0s - loss: 0.4180 - accuracy: 0.8260 - val_loss: 0.4141 - val_accuracy: 0.8340\n",
            "Epoch 131/150\n",
            " - 0s - loss: 0.4164 - accuracy: 0.8200 - val_loss: 0.4101 - val_accuracy: 0.8360\n",
            "Epoch 132/150\n",
            " - 0s - loss: 0.4261 - accuracy: 0.8260 - val_loss: 0.4106 - val_accuracy: 0.8340\n",
            "Epoch 133/150\n",
            " - 0s - loss: 0.4199 - accuracy: 0.8200 - val_loss: 0.4153 - val_accuracy: 0.8320\n",
            "Epoch 134/150\n",
            " - 0s - loss: 0.4232 - accuracy: 0.8240 - val_loss: 0.4208 - val_accuracy: 0.8300\n",
            "Epoch 135/150\n",
            " - 0s - loss: 0.4296 - accuracy: 0.8080 - val_loss: 0.4108 - val_accuracy: 0.8320\n",
            "Epoch 136/150\n",
            " - 0s - loss: 0.4127 - accuracy: 0.8320 - val_loss: 0.4169 - val_accuracy: 0.8300\n",
            "Epoch 137/150\n",
            " - 0s - loss: 0.4269 - accuracy: 0.8160 - val_loss: 0.4136 - val_accuracy: 0.8300\n",
            "Epoch 138/150\n",
            " - 0s - loss: 0.4289 - accuracy: 0.8180 - val_loss: 0.4289 - val_accuracy: 0.8260\n",
            "Epoch 139/150\n",
            " - 0s - loss: 0.4151 - accuracy: 0.8280 - val_loss: 0.4140 - val_accuracy: 0.8300\n",
            "Epoch 140/150\n",
            " - 0s - loss: 0.4216 - accuracy: 0.8240 - val_loss: 0.4283 - val_accuracy: 0.8280\n",
            "Epoch 141/150\n",
            " - 0s - loss: 0.4100 - accuracy: 0.8280 - val_loss: 0.4174 - val_accuracy: 0.8300\n",
            "Epoch 142/150\n",
            " - 0s - loss: 0.4101 - accuracy: 0.8360 - val_loss: 0.4097 - val_accuracy: 0.8340\n",
            "Epoch 143/150\n",
            " - 0s - loss: 0.4101 - accuracy: 0.8200 - val_loss: 0.4550 - val_accuracy: 0.8160\n",
            "Epoch 144/150\n",
            " - 0s - loss: 0.4252 - accuracy: 0.8240 - val_loss: 0.4165 - val_accuracy: 0.8280\n",
            "Epoch 145/150\n",
            " - 0s - loss: 0.4178 - accuracy: 0.8300 - val_loss: 0.4182 - val_accuracy: 0.8300\n",
            "Epoch 146/150\n",
            " - 0s - loss: 0.4098 - accuracy: 0.8200 - val_loss: 0.4453 - val_accuracy: 0.8220\n",
            "Epoch 147/150\n",
            " - 0s - loss: 0.4254 - accuracy: 0.8180 - val_loss: 0.4086 - val_accuracy: 0.8300\n",
            "Epoch 148/150\n",
            " - 0s - loss: 0.4155 - accuracy: 0.8140 - val_loss: 0.4109 - val_accuracy: 0.8320\n",
            "Epoch 149/150\n",
            " - 0s - loss: 0.4136 - accuracy: 0.8220 - val_loss: 0.4070 - val_accuracy: 0.8300\n",
            "Epoch 150/150\n",
            " - 0s - loss: 0.4159 - accuracy: 0.8420 - val_loss: 0.4126 - val_accuracy: 0.8380\n",
            "accuracy =  0.842   validation loss =  0.413\n"
          ],
          "name": "stdout"
        },
        {
          "output_type": "display_data",
          "data": {
            "image/png": "[encoded data removed]",
            "text/plain": [
              "<Figure size 432x288 with 1 Axes>"
            ]
          },
          "metadata": {
            "tags": []
          }
        },
        {
          "output_type": "stream",
          "text": [
            "CPU times: user 9.66 s, sys: 657 ms, total: 10.3 s\n",
            "Wall time: 9.03 s\n"
          ],
          "name": "stdout"
        }
      ]
    },
    {
      "cell_type": "markdown",
      "metadata": {
        "id": "U7B16qvfgODH",
        "colab_type": "text"
      },
      "source": [
        "Q7 . RNN 문장 생성기\n"
      ]
    },
    {
      "cell_type": "code",
      "metadata": {
        "id": "_2DqrQtH9Itp",
        "colab_type": "code",
        "colab": {}
      },
      "source": [
        "# 다음의 코드를 완성하시오\n",
        "from tensorflow.keras.preprocessing.text import Tokenizer\n",
        "from tensorflow.keras.preprocessing.sequence import pad_sequences\n",
        "import numpy as np\n",
        "from tensorflow.keras.utils import to_categorical\n",
        "\n",
        "text=\"\"\"특히 최근 수도권에서는 교회 소모임 참석자에 이어 이들 가족과 지인으로 번지는 2차 감염 사례가 증가하고 있습니다. 중앙재난안전대책본부는 오늘까지 수도권 교회와 관련한 코로나19 확진자는 총 63명이라고 밝혔으며  2차 감염자는 33명 이라고 전했습니다. \"\"\"\n",
        "\n",
        "\n",
        "t = Tokenizer()\n",
        "t.fit_on_texts([text])\n",
        "vocab_size = len(t.word_index) + 1\n",
        "print('단어 집합의 크기 : %d' % vocab_size)\n",
        "\n",
        "\n",
        "print(t.word_index)\n",
        "\n",
        "sequences = list()\n",
        "for line in text.split('\\n'): \n",
        "    encoded = t.texts_to_sequences([line])[0]\n",
        "    for i in range(1, len(encoded)):\n",
        "        sequence = encoded[:i+1]\n",
        "        sequences.append(sequence)\n",
        "\n",
        "print('학습에 사용할 샘플의 개수: %d' % len(sequences))\n",
        "\n",
        "\n",
        "max_len=max(len(l) for l in sequences) \n",
        "\n",
        "sequences = pad_sequences(sequences, maxlen=max_len, padding='pre')\n",
        "\n",
        "sequences = np.array(sequences)\n",
        "X = sequences[:,:-1]\n",
        "y = sequences[:,-1]\n",
        "\n",
        "\n",
        "from tensorflow.keras.models import Sequential\n",
        "from tensorflow.keras.layers import Embedding, Dense, SimpleRNN\n",
        "\n",
        "model = Sequential()\n",
        "model.add(Embedding(vocab_size, 10, input_length=max_len-1))  \n",
        "model.add(SimpleRNN(32))\n",
        "model.add(Dense(vocab_size, activation='softmax'))\n",
        "model.compile(loss='sparse_categorical_crossentropy', optimizer='adam', metrics=['accuracy'])\n",
        "model.fit(X, y, epochs=120, verbose=2)\n",
        "\n",
        "# 이 블록에서 yoou_code_here 부분을 완성하시오\n",
        "def sentence_generation(model, t, current_word, n): # model = 모델, t = 토크나이저, current_word = 현재 단어, n = 반복할 횟수\n",
        "    init_word = current_word # 처음 들어온 단어도 마지막에 같이 출력하기위해 저장\n",
        "    sentence = ''\n",
        "    for _ in range(n): # n번 반복\n",
        "        encoded = t.texts_to_sequences([current_word])[0] # 현재 단어에 대한 정수 인코딩\n",
        "        encoded = pad_sequences([encoded], maxlen=30, padding='pre') # 데이터에 대한 패딩\n",
        "        result = np.argmax(model.predict(encoded), axis=-1)\n",
        "        for word, index in t.word_index.items(): \n",
        "            if index == result: # 만약 예측한 단어의 인덱스 값이 동일한 단어가 있다면\n",
        "                break # 해당 단어가 예측 단어이므로 break\n",
        "        current_word = your_code_here # 현재 단어 + ' ' + 예측한 단어를 current_word로 저장\n",
        "        sentence = your_code_here  # 예측한 단어를 sentence에 append\n",
        "     \n",
        "    sentence = your_code_here # 초기의 텍스트와 for loop에서 생성된 텍스트를 concatenate\n",
        "    return sentence\n",
        "\n",
        "print(sentence_generation(model, t, '특히', 10))"
      ],
      "execution_count": 0,
      "outputs": []
    },
    {
      "cell_type": "markdown",
      "metadata": {
        "id": "Q_ZqqZcvN1PQ",
        "colab_type": "text"
      },
      "source": [
        "## 20년1학기-기말고사-yourname.ipynb로 다운로드한 후 제출하십시오.\n",
        "수고하였습니다!"
      ]
    }
  ]
}